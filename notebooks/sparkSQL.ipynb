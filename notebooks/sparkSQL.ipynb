{
 "cells": [
  {
   "cell_type": "markdown",
   "id": "18b65d1f-e9e4-4f82-9458-2758a9d0b18f",
   "metadata": {},
   "source": [
    "<ul>\n",
    "    <li> Run SQl queries on Dataframes</li>\n",
    "    <li> Work with Spark databases & Tables</li>\n",
    "    <li> Work with user defined functions (UDF)</li>\n",
    "    <li> Perform operations on multiple datasets</li>\n",
    "    <li> Perform window operations</li>\n",
    "</ul>\n"
   ]
  },
  {
   "cell_type": "code",
   "execution_count": 2,
   "id": "45494df2-9acc-4968-8562-e945310ccffa",
   "metadata": {},
   "outputs": [
    {
     "data": {
      "text/plain": [
       "'/usr/local/spark'"
      ]
     },
     "execution_count": 2,
     "metadata": {},
     "output_type": "execute_result"
    }
   ],
   "source": [
    "# Running SQL Queries on DataFrames\n",
    "\n",
    "from pyspark.sql.types import *\n",
    "from pyspark.sql import SparkSession\n",
    "import findspark\n",
    "\n",
    "findspark.init()\n",
    "findspark.find()"
   ]
  },
  {
   "cell_type": "code",
   "execution_count": 3,
   "id": "3e543d68-9446-4319-a644-56df1edb360d",
   "metadata": {},
   "outputs": [
    {
     "data": {
      "text/html": [
       "\n",
       "        <div>\n",
       "            <p><b>SparkContext</b></p>\n",
       "\n",
       "            <p><a href=\"http://557f39ccb528:4043\">Spark UI</a></p>\n",
       "\n",
       "            <dl>\n",
       "              <dt>Version</dt>\n",
       "                <dd><code>v3.5.0</code></dd>\n",
       "              <dt>Master</dt>\n",
       "                <dd><code>local[4]</code></dd>\n",
       "              <dt>AppName</dt>\n",
       "                <dd><code>SparkSQLApp</code></dd>\n",
       "            </dl>\n",
       "        </div>\n",
       "        "
      ],
      "text/plain": [
       "<SparkContext master=local[4] appName=SparkSQLApp>"
      ]
     },
     "execution_count": 3,
     "metadata": {},
     "output_type": "execute_result"
    }
   ],
   "source": [
    "spark = (\n",
    "    SparkSession.builder.appName(\"SparkSQLApp\")\n",
    "    .master(\"local[4]\")\n",
    "    .config(\"apark.dynamicAllocation.enabled\", \"false\")\n",
    "    .config(\"spark.sql.adaptive.enabled\", \"false\")\n",
    "    .getOrCreate()\n",
    ")\n",
    "\n",
    "sc = spark.sparkContext\n",
    "sc"
   ]
  },
  {
   "cell_type": "code",
   "execution_count": 4,
   "id": "135ae4b1-9513-403c-94f2-98a4469ea672",
   "metadata": {},
   "outputs": [],
   "source": [
    "# Create the schema for YellowTaxi Data\n",
    "\n",
    "taxi_schema = StructType(\n",
    "    [\n",
    "        StructField(\"VendorId\", IntegerType(), True),\n",
    "        StructField(\"tpep_pickup_datetime\", TimestampType(), True),\n",
    "        StructField(\"tpep_dropoff_datetime\", TimestampType(), True),\n",
    "        StructField(\"passenger_count\", DoubleType(), True),\n",
    "        StructField(\"trip_distance\", DoubleType(), True),\n",
    "        StructField(\"RatecodeID\", DoubleType(), True),\n",
    "        StructField(\"store_and_fwd_flag\", StringType(), True),\n",
    "        StructField(\"PULocationID\", IntegerType(), True),\n",
    "        StructField(\"DOLocationID\", IntegerType(), True),\n",
    "        StructField(\"payment_type\", IntegerType(), True),\n",
    "        StructField(\"fare_amount\", DoubleType(), True),\n",
    "        StructField(\"extra\", DoubleType(), True),\n",
    "        StructField(\"mta_tax\", DoubleType(), True),\n",
    "        StructField(\"tip_amount\", DoubleType(), True),\n",
    "        StructField(\"tolls_amount\", DoubleType(), True),\n",
    "        StructField(\"improvement_surcharge\", IntegerType(), True),\n",
    "        StructField(\"total_amount\", IntegerType(), True),\n",
    "        StructField(\"congestion_surcharge\", DoubleType(), True),\n",
    "        StructField(\"airport_fee\", DoubleType(), True),\n",
    "    ]\n",
    ")"
   ]
  },
  {
   "cell_type": "code",
   "execution_count": 5,
   "id": "3a198acf-2e2d-41d7-b5cb-197100feb95c",
   "metadata": {},
   "outputs": [
    {
     "name": "stdout",
     "output_type": "stream",
     "text": [
      "root\n",
      " |-- VendorId: integer (nullable = true)\n",
      " |-- tpep_pickup_datetime: timestamp (nullable = true)\n",
      " |-- tpep_dropoff_datetime: timestamp (nullable = true)\n",
      " |-- passenger_count: double (nullable = true)\n",
      " |-- trip_distance: double (nullable = true)\n",
      " |-- RatecodeID: double (nullable = true)\n",
      " |-- store_and_fwd_flag: string (nullable = true)\n",
      " |-- PULocationID: integer (nullable = true)\n",
      " |-- DOLocationID: integer (nullable = true)\n",
      " |-- payment_type: integer (nullable = true)\n",
      " |-- fare_amount: double (nullable = true)\n",
      " |-- extra: double (nullable = true)\n",
      " |-- mta_tax: double (nullable = true)\n",
      " |-- tip_amount: double (nullable = true)\n",
      " |-- tolls_amount: double (nullable = true)\n",
      " |-- improvement_surcharge: integer (nullable = true)\n",
      " |-- total_amount: integer (nullable = true)\n",
      " |-- congestion_surcharge: double (nullable = true)\n",
      " |-- airport_fee: double (nullable = true)\n",
      "\n"
     ]
    }
   ],
   "source": [
    "yellowTaxiDF = (\n",
    "    spark.read.option(\"header\", \"true\")\n",
    "    .schema(taxi_schema)\n",
    "    .csv(\"data/csvs/YellowTaxis_202210.csv\")\n",
    ")\n",
    "\n",
    "yellowTaxiDF.printSchema()"
   ]
  },
  {
   "cell_type": "code",
   "execution_count": 11,
   "id": "296d0968-c512-411b-93a7-b595f59ed4f2",
   "metadata": {},
   "outputs": [
    {
     "name": "stdout",
     "output_type": "stream",
     "text": [
      "+--------+--------------------+---------------------+---------------+-------------+----------+------------------+------------+------------+------------+-----------+-----+-------+----------+------------+---------------------+------------+--------------------+-----------+\n",
      "|VendorId|tpep_pickup_datetime|tpep_dropoff_datetime|passenger_count|trip_distance|RatecodeID|store_and_fwd_flag|PULocationID|DOLocationID|payment_type|fare_amount|extra|mta_tax|tip_amount|tolls_amount|improvement_surcharge|total_amount|congestion_surcharge|airport_fee|\n",
      "+--------+--------------------+---------------------+---------------+-------------+----------+------------------+------------+------------+------------+-----------+-----+-------+----------+------------+---------------------+------------+--------------------+-----------+\n",
      "|       1| 2022-10-01 08:17:23|  2022-10-01 09:08:50|            1.0|          9.4|      99.0|                 N|         171|         263|           1|       35.2|  0.0|    0.5|       0.0|        6.55|                 NULL|        NULL|                 0.0|        0.0|\n",
      "|       1| 2022-10-02 04:28:04|  2022-10-02 04:28:26|            2.0|          3.2|       5.0|                 Y|         171|         171|           2|       75.0|  0.0|    0.0|       0.0|         0.0|                 NULL|        NULL|                 0.0|        0.0|\n",
      "|       1| 2022-10-02 08:48:08|  2022-10-02 09:09:53|            1.0|          0.0|      99.0|                 N|         171|         262|           1|       35.2|  0.0|    0.5|       0.0|        6.55|                 NULL|        NULL|                 0.0|        0.0|\n",
      "|       1| 2022-10-02 09:10:11|  2022-10-02 09:55:13|            1.0|         10.0|      99.0|                 N|         171|          80|           1|       36.2|  0.0|    0.5|       0.0|         0.0|                 NULL|        NULL|                 0.0|        0.0|\n",
      "|       1| 2022-10-02 16:03:21|  2022-10-02 16:23:20|            1.0|          7.7|      99.0|                 N|         171|         258|           1|       31.2|  0.0|    0.5|       0.0|         0.0|                 NULL|        NULL|                 0.0|        0.0|\n",
      "|       1| 2022-10-03 08:18:22|  2022-10-03 08:55:15|            1.0|         13.1|      99.0|                 N|         171|         216|           1|       37.2|  0.0|    0.5|       0.0|         0.0|                 NULL|        NULL|                 0.0|        0.0|\n",
      "|       1| 2022-10-03 09:40:35|  2022-10-03 09:40:36|            1.0|          0.0|       1.0|                 N|         171|         171|           1|       15.2|  0.0|    0.5|       0.0|         0.0|                 NULL|        NULL|                 0.0|        0.0|\n",
      "|       1| 2022-10-04 11:27:24|  2022-10-04 11:56:22|            1.0|          6.8|      99.0|                 N|         171|         205|           1|       42.2|  0.0|    0.5|       0.0|         0.0|                 NULL|        NULL|                 0.0|        0.0|\n",
      "|       1| 2022-10-06 09:39:40|  2022-10-06 09:51:14|            1.0|          0.0|       1.0|                 N|         171|          92|           1|       15.2|  0.0|    0.5|       0.0|         0.0|                 NULL|        NULL|                 0.0|        0.0|\n",
      "+--------+--------------------+---------------------+---------------+-------------+----------+------------------+------------+------------+------------+-----------+-----+-------+----------+------------+---------------------+------------+--------------------+-----------+\n",
      "\n"
     ]
    }
   ],
   "source": [
    "yellowTaxiDF.createOrReplaceTempView(\"YellowTaxis\")\n",
    "outputDF = spark.sql(\"SELECT * FROM YellowTaxis WHERE PULocationID = 171\")\n",
    "outputDF.show()"
   ]
  },
  {
   "cell_type": "code",
   "execution_count": 14,
   "id": "545f1cf8-8042-460f-ae51-02ff35b82bcd",
   "metadata": {},
   "outputs": [],
   "source": [
    "greenTaxiDF = (\n",
    "    spark.read.option(\"header\", \"true\")\n",
    "    .schema(taxi_schema)\n",
    "    .csv(\"data/csvs/GreenTaxis_202210.csv\")\n",
    ")\n",
    "\n",
    "greenTaxiDF.createOrReplaceTempView(\"GreenTaxis\")"
   ]
  },
  {
   "cell_type": "code",
   "execution_count": 15,
   "id": "8d6cef89-6292-4ff2-a831-2bfbfc4043fb",
   "metadata": {},
   "outputs": [
    {
     "name": "stdout",
     "output_type": "stream",
     "text": [
      "root\n",
      " |-- VendorId: integer (nullable = true)\n",
      " |-- tpep_pickup_datetime: timestamp (nullable = true)\n",
      " |-- tpep_dropoff_datetime: timestamp (nullable = true)\n",
      " |-- passenger_count: double (nullable = true)\n",
      " |-- trip_distance: double (nullable = true)\n",
      " |-- RatecodeID: double (nullable = true)\n",
      " |-- store_and_fwd_flag: string (nullable = true)\n",
      " |-- PULocationID: integer (nullable = true)\n",
      " |-- DOLocationID: integer (nullable = true)\n",
      " |-- payment_type: integer (nullable = true)\n",
      " |-- fare_amount: double (nullable = true)\n",
      " |-- extra: double (nullable = true)\n",
      " |-- mta_tax: double (nullable = true)\n",
      " |-- tip_amount: double (nullable = true)\n",
      " |-- tolls_amount: double (nullable = true)\n",
      " |-- improvement_surcharge: integer (nullable = true)\n",
      " |-- total_amount: integer (nullable = true)\n",
      " |-- congestion_surcharge: double (nullable = true)\n",
      " |-- airport_fee: double (nullable = true)\n",
      "\n"
     ]
    }
   ],
   "source": [
    "greenTaxiDF.printSchema()"
   ]
  },
  {
   "cell_type": "markdown",
   "id": "58e0e5ce-6894-4768-9707-7928de812194",
   "metadata": {},
   "source": [
    "### Merge query for yellow and green taxis data"
   ]
  },
  {
   "cell_type": "code",
   "execution_count": 16,
   "id": "e1bff03b-8a33-4763-ae15-ebb1922d5f53",
   "metadata": {},
   "outputs": [
    {
     "name": "stdout",
     "output_type": "stream",
     "text": [
      "+--------+-------------------+-------------------+----------------+--------------+\n",
      "|TaxiType|         PickupTime|           DropTime|PickupLocationId|DropLocationId|\n",
      "+--------+-------------------+-------------------+----------------+--------------+\n",
      "|  Yellow|2022-10-01 00:03:41|2022-10-01 00:18:39|             249|           107|\n",
      "|  Yellow|2022-10-01 00:14:30|2022-10-01 00:19:48|             151|           238|\n",
      "|  Yellow|2022-10-01 00:27:13|2022-10-01 00:37:41|             238|           166|\n",
      "|  Yellow|2022-10-01 00:32:53|2022-10-01 00:38:55|             142|           239|\n",
      "|  Yellow|2022-10-01 00:44:55|2022-10-01 00:50:21|             238|           166|\n",
      "|  Yellow|2022-10-01 00:22:52|2022-10-01 00:52:14|             186|            41|\n",
      "|  Yellow|2022-10-01 00:33:19|2022-10-01 00:44:51|             162|           145|\n",
      "|  Yellow|2022-10-01 00:02:42|2022-10-01 00:50:01|             100|            22|\n",
      "|  Yellow|2022-10-01 00:06:35|2022-10-01 00:24:38|             138|           112|\n",
      "|  Yellow|2022-10-01 00:29:25|2022-10-01 00:43:15|             145|            75|\n",
      "|  Yellow|2022-10-01 00:01:55|2022-10-01 00:20:16|             138|           236|\n",
      "|  Yellow|2022-10-01 00:27:48|2022-10-01 00:59:50|             140|            36|\n",
      "|  Yellow|2022-10-01 00:05:27|2022-10-01 00:35:33|              70|           230|\n",
      "|  Yellow|2022-10-01 00:38:53|2022-10-01 00:48:13|             230|            68|\n",
      "|  Yellow|2022-10-01 00:24:40|2022-10-01 00:30:23|              79|           113|\n",
      "|  Yellow|2022-10-01 00:32:22|2022-10-01 00:58:55|             113|           116|\n",
      "|  Yellow|2022-10-01 00:17:08|2022-10-01 00:30:50|              13|           249|\n",
      "|  Yellow|2022-10-01 00:32:14|2022-10-01 00:44:35|             249|            79|\n",
      "|  Yellow|2022-10-01 00:09:24|2022-10-01 00:21:45|              48|           249|\n",
      "|  Yellow|2022-10-01 00:22:29|2022-10-01 00:33:53|             249|           224|\n",
      "+--------+-------------------+-------------------+----------------+--------------+\n",
      "only showing top 20 rows\n",
      "\n"
     ]
    }
   ],
   "source": [
    "outputDF = spark.sql(\n",
    "    \"\"\"\n",
    "SELECT 'Yellow'                 AS TaxiType,\n",
    "        tpep_pickup_datetime   AS PickupTime,\n",
    "        tpep_dropoff_datetime  AS DropTime,\n",
    "        PULocationID           AS PickupLocationId,\n",
    "        DOLocationID           AS DropLocationId\n",
    "FROM YellowTaxis\n",
    "\n",
    "UNION ALL\n",
    "\n",
    "SELECT 'Green'                 AS TaxiType,\n",
    "        tpep_pickup_datetime   AS PickupTime,\n",
    "        tpep_dropoff_datetime  AS DropTime,\n",
    "        PULocationID           AS PickupLocationId,\n",
    "        DOLocationID           AS DropLocationId\n",
    "FROM GreenTaxis\n",
    "\"\"\"\n",
    ")\n",
    "\n",
    "outputDF.show()"
   ]
  },
  {
   "cell_type": "code",
   "execution_count": 7,
   "id": "1923a8a9-9195-4328-82a8-8c1e51f3c8ae",
   "metadata": {},
   "outputs": [
    {
     "name": "stdout",
     "output_type": "stream",
     "text": [
      "+----------+-------------+--------------------+-----------+\n",
      "|LocationID|      Borough|                Zone|ServiceZone|\n",
      "+----------+-------------+--------------------+-----------+\n",
      "|         1|          EWR|      Newark Airport|        EWR|\n",
      "|         2|       Queens|         Jamaica Bay|  Boro Zone|\n",
      "|         3|        Bronx|Allerton/Pelham G...|  Boro Zone|\n",
      "|         4|    Manhattan|       Alphabet City|Yellow Zone|\n",
      "|         5|Staten Island|       Arden Heights|  Boro Zone|\n",
      "|         6|Staten Island|Arrochar/Fort Wad...|  Boro Zone|\n",
      "|         7|       Queens|             Astoria|  Boro Zone|\n",
      "|         8|       Queens|        Astoria Park|  Boro Zone|\n",
      "|         9|       Queens|          Auburndale|  Boro Zone|\n",
      "|        10|       Queens|        Baisley Park|  Boro Zone|\n",
      "|        11|     Brooklyn|          Bath Beach|  Boro Zone|\n",
      "|        12|    Manhattan|        Battery Park|Yellow Zone|\n",
      "|        13|    Manhattan|   Battery Park City|Yellow Zone|\n",
      "|        14|     Brooklyn|           Bay Ridge|  Boro Zone|\n",
      "|        15|       Queens|Bay Terrace/Fort ...|  Boro Zone|\n",
      "|        16|       Queens|             Bayside|  Boro Zone|\n",
      "|        17|     Brooklyn|             Bedford|  Boro Zone|\n",
      "|        18|        Bronx|        Bedford Park|  Boro Zone|\n",
      "|        19|       Queens|           Bellerose|  Boro Zone|\n",
      "|        20|        Bronx|             Belmont|  Boro Zone|\n",
      "+----------+-------------+--------------------+-----------+\n",
      "only showing top 20 rows\n",
      "\n"
     ]
    }
   ],
   "source": [
    "taxiZonesSchema = \"LocationID INT, Borough STRING, Zone STRING, ServiceZone STRING\"\n",
    "\n",
    "taxiZonesDF = spark.read.schema(taxiZonesSchema).csv(\"data/csvs/TaxiZones.csv\")\n",
    "\n",
    "\n",
    "# Create a global temp view:\n",
    "taxiZonesDF.createOrReplaceGlobalTempView(\"TaxiZones\")\n",
    "\n",
    "taxiZonesDF.show()"
   ]
  },
  {
   "cell_type": "markdown",
   "id": "3f3f75cd-b61f-4e36-b06a-81f8da86c16d",
   "metadata": {},
   "source": [
    "#### Create a report"
   ]
  },
  {
   "cell_type": "code",
   "execution_count": 17,
   "id": "2b45f979-7c79-4767-aff7-49a9494bfd78",
   "metadata": {},
   "outputs": [
    {
     "name": "stdout",
     "output_type": "stream",
     "text": [
      "+-------------+--------+----------+\n",
      "|      Borough|TaxiType|totaltrips|\n",
      "+-------------+--------+----------+\n",
      "|        Bronx|    NULL|         1|\n",
      "|        Bronx|  Yellow|       766|\n",
      "|     Brooklyn|    NULL|         1|\n",
      "|     Brooklyn|  Yellow|      3268|\n",
      "|          EWR|  Yellow|       177|\n",
      "|    Manhattan|    NULL|         3|\n",
      "|    Manhattan|  Yellow|    491632|\n",
      "|       Queens|    NULL|         2|\n",
      "|       Queens|  Yellow|     53025|\n",
      "|Staten Island|    NULL|        10|\n",
      "|Staten Island|  Yellow|        60|\n",
      "|      Unknown|  Yellow|      8002|\n",
      "+-------------+--------+----------+\n",
      "\n"
     ]
    }
   ],
   "source": [
    "spark.sql(\n",
    "    \"\"\"\n",
    "    SELECT Borough, TaxiType, Count(*) AS totaltrips\n",
    "    FROM global_temp.TaxiZones\n",
    "    LEFT JOIN\n",
    "    (\n",
    "    SELECT 'Yellow' AS TaxiType, PULocationID FROM YellowTaxis\n",
    "    UNION ALL\n",
    "    SELECT 'Green' AS TaxiType, PULocationID FROM GreenTaxis\n",
    "    ) AllTaxis\n",
    "\n",
    "    ON AllTaxis.PULocationID = TaxiZones.LocationID\n",
    "\n",
    "    GROUP BY Borough, TaxiType\n",
    "    ORDER BY Borough, TaxiType\n",
    "\"\"\"\n",
    ").show()"
   ]
  },
  {
   "cell_type": "code",
   "execution_count": null,
   "id": "eba03ebb-9a4b-4f39-a29e-9600cbc442fa",
   "metadata": {},
   "outputs": [],
   "source": []
  },
  {
   "cell_type": "code",
   "execution_count": null,
   "id": "0df98678-5ff9-4eea-8f3f-1d05d100e24e",
   "metadata": {},
   "outputs": [],
   "source": []
  },
  {
   "cell_type": "code",
   "execution_count": null,
   "id": "8ace95fa-e4c3-4230-b09a-0e766773d189",
   "metadata": {},
   "outputs": [],
   "source": []
  }
 ],
 "metadata": {
  "kernelspec": {
   "display_name": "Python 3 (ipykernel)",
   "language": "python",
   "name": "python3"
  },
  "language_info": {
   "codemirror_mode": {
    "name": "ipython",
    "version": 3
   },
   "file_extension": ".py",
   "mimetype": "text/x-python",
   "name": "python",
   "nbconvert_exporter": "python",
   "pygments_lexer": "ipython3",
   "version": "3.11.6"
  }
 },
 "nbformat": 4,
 "nbformat_minor": 5
}
