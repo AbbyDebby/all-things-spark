{
 "cells": [
  {
   "cell_type": "code",
   "execution_count": 1,
   "id": "75869bd2-e150-465f-a7d5-2a5b8e5cde7b",
   "metadata": {},
   "outputs": [
    {
     "data": {
      "text/plain": [
       "'/usr/local/spark'"
      ]
     },
     "execution_count": 1,
     "metadata": {},
     "output_type": "execute_result"
    }
   ],
   "source": [
    "import findspark\n",
    "from pyspark.sql import SparkSession\n",
    "from pyspark.sql.types import *\n",
    "from pyspark.sql.functions import *\n",
    "\n",
    "findspark.init()\n",
    "findspark.find()"
   ]
  },
  {
   "cell_type": "code",
   "execution_count": 2,
   "id": "c3443bb9-8ec5-4f1f-aa46-dfd5f2a16c12",
   "metadata": {},
   "outputs": [
    {
     "data": {
      "text/html": [
       "\n",
       "            <div>\n",
       "                <p><b>SparkSession - in-memory</b></p>\n",
       "                \n",
       "        <div>\n",
       "            <p><b>SparkContext</b></p>\n",
       "\n",
       "            <p><a href=\"http://557f39ccb528:4041\">Spark UI</a></p>\n",
       "\n",
       "            <dl>\n",
       "              <dt>Version</dt>\n",
       "                <dd><code>v3.5.0</code></dd>\n",
       "              <dt>Master</dt>\n",
       "                <dd><code>local[4]</code></dd>\n",
       "              <dt>AppName</dt>\n",
       "                <dd><code>udfApp</code></dd>\n",
       "            </dl>\n",
       "        </div>\n",
       "        \n",
       "            </div>\n",
       "        "
      ],
      "text/plain": [
       "<pyspark.sql.session.SparkSession at 0x7f5550fabc90>"
      ]
     },
     "execution_count": 2,
     "metadata": {},
     "output_type": "execute_result"
    }
   ],
   "source": [
    "spark = (\n",
    "    SparkSession.builder.appName(\"udfApp\")\n",
    "    .master(\"local[4]\")\n",
    "    .config(\"spark.dynamicAllocation.enabled\", \"false\")\n",
    "    .config(\"spark.sql.adaptive.enabled\", \"false\")\n",
    "    .getOrCreate()\n",
    ")\n",
    "\n",
    "spark"
   ]
  },
  {
   "cell_type": "code",
   "execution_count": 3,
   "id": "37da65a8-5b52-4d60-ab81-80e45dde5f0c",
   "metadata": {},
   "outputs": [
    {
     "data": {
      "text/plain": [
       "<property at 0x7f555119ad90>"
      ]
     },
     "execution_count": 3,
     "metadata": {},
     "output_type": "execute_result"
    }
   ],
   "source": [
    "sc = SparkSession.sparkContext\n",
    "sc"
   ]
  },
  {
   "cell_type": "code",
   "execution_count": 4,
   "id": "d590d7a0-93c7-4b5a-9ed4-895a18c43800",
   "metadata": {},
   "outputs": [
    {
     "name": "stdout",
     "output_type": "stream",
     "text": [
      "+---------+--------------------+------------------------+----------------+------+-------------------+-----------------+--------------------+-----------+-----------+---------------+--------------------------+--------------------------------------------+---------------+\n",
      "|CabNumber|VehicleLicenseNumber|Name                    |LicenseType     |Active|PermitLicenseNumber|VehicleVinNumber |WheelchairAccessible|VehicleYear|VehicleType|TelephoneNumber|Website                   |Address                                     |LastDateUpdated|\n",
      "+---------+--------------------+------------------------+----------------+------+-------------------+-----------------+--------------------+-----------+-----------+---------------+--------------------------+--------------------------------------------+---------------+\n",
      "|T802127C |C19641              |ABCON INC.              |OWNER MUST DRIVE|YES   |NULL               |5TDBK3EH0DS268018|NULL                |2016       |NULL       |(718)438-1100  |NULL                      |41-24   38 STREET L.I.C. NY 11101           |04/22/2020     |\n",
      "|T525963C |5362996             |ACCEPTABLE TAXI LLC     |NAMED DRIVER    |YES   |NULL               |JTDZN3EU1GJ044907|NULL                |2016       |NULL       |(718)375-1001  |NULL                      |2395 CONEY ISLAND AVENUE BROOKLYN NY 11223  |04/22/2020     |\n",
      "|T457353C |5122403             |ALLIS CAB CORP          |NAMED DRIVER    |YES   |NULL               |4T1BD1FK9FU150746|NULL                |2013       |NULL       |(212)927-4600  |NULL                      |2400 AMSTERDAM AVENUE NEW YORK NY 10033     |04/22/2020     |\n",
      "|T606373C |5386507             |BENE CAB CORP           |NAMED DRIVER    |YES   |AC992              |4T1BD1FK1EU137360|NULL                |2015       |NULL       |(718)472-9800  |NULL                      |29 - 10   36 AVENUE ASTORIA NY 11106        |04/22/2020     |\n",
      "|T451536C |5143151             |BOULOS TAXI CORP.       |NAMED DRIVER    |YES   |NULL               |4T1BD1FK8FU142430|NULL                |2017       |NULL       |(718)971-5639  |NULL                      |636 WEST   28 STREET NEW YORK NY 10001      |04/22/2020     |\n",
      "|T500313C |5268004             |CACERES,JAIME,P         |OWNER MUST DRIVE|YES   |NULL               |4T1BF1FK8FU477889|NULL                |2015       |NULL       |(516)861-2019  |NULL                      |62 MAIN STREET PT WASHINGTON NY 11050       |04/22/2020     |\n",
      "|T484321C |5238526             |CALCIUM ONE SERVICE INC.|NAMED DRIVER    |YES   |NULL               |4T1BD1FK4FU176834|NULL                |2017       |NULL       |(718)971-5559  |WWW.DRIVEUBERNYC.COM      |636 WEST   28 STREET NEW YORK NY 10001      |04/22/2020     |\n",
      "|T663612C |5386120             |CHARLES,WILBERT         |OWNER MUST DRIVE|YES   |NULL               |JTMRJREV1HD120102|NULL                |2015       |NULL       |(718)658-5700  |NULL                      |135-10 JAMAICA AVENUE RICHMOND HILL NY 11418|04/22/2020     |\n",
      "|T725323C |5171032             |CHAWKI,MICHAEL          |OWNER MUST DRIVE|YES   |NULL               |1FMCU4K35AKA35795|NULL                |2016       |NULL       |(646)665-3514  |DRIVEUBERNYC.COM          |636 WEST   28 STREET NEW YORK NY 10001      |04/22/2020     |\n",
      "|T519718C |5330235             |CHRYSOVALANTOU CORP,    |NAMED DRIVER    |YES   |NULL               |4T1BD1FK4FU149276|NULL                |2017       |NULL       |(718)515-5555  |WWW.BESTDEALCARSERVICE.COM|757 A BURKE AVENUE BRONX NY 10467           |04/22/2020     |\n",
      "|T664587C |5588056             |COFI BOAT CORP.         |OWNER MUST DRIVE|YES   |NULL               |JTMRJREV5GD012564|NULL                |2016       |NULL       |(212)666-6666  |NULL                      |2642 BROADWAY NY NY 10025                   |04/22/2020     |\n",
      "|ELITE346 |F37515              |DEKEL TAXI CAB CORP     |NAMED DRIVER    |YES   |NULL               |4T1BD1FK4FU163789|NULL                |2019       |NULL       |(718)472-2300  |NULL                      |32-72 GALE AVENUE LIC NY 11101              |04/22/2020     |\n",
      "|T621614C |5453341             |FLORIAN & ROBERT INC    |NAMED DRIVER    |YES   |NULL               |JTDZN3EU3E3306122|NULL                |2012       |NULL       |(718)543-0001  |NULL                      |3107 KINGSBRIDGE AVENUE BRONX NY 10463      |04/22/2020     |\n",
      "|T714073C |5385905             |GART CAB CORP           |NAMED DRIVER    |YES   |NULL               |3N8CM0JT9EK702820|NULL                |2016       |NULL       |(718)971-5559  |ZWEINYC.COM               |636 WEST   28 STREET NEW YORK NY 10001      |04/22/2020     |\n",
      "|T655723C |5553705             |GAUTHIER,JACQUES        |OWNER MUST DRIVE|YES   |NULL               |1FMCU4K35CKA37551|NULL                |2016       |NULL       |(212)431-5555  |NULL                      |11-35   31 DRIVE LONG ISLAND CIT NY 11106   |04/22/2020     |\n",
      "|T600330C |V75262              |GEORGAKOPOULOS, GEORGIA |NAMED DRIVER    |YES   |NULL               |2FABP7AV7BX148809|NULL                |2010       |NULL       |(646)665-7584  |NULL                      |636 WEST   28 STREET NEW YORK NY 10001      |04/22/2020     |\n",
      "|T652698C |5552919             |GUJAR CAB CORP          |NAMED DRIVER    |YES   |NULL               |1FMCU4K35CKA85955|NULL                |2015       |NULL       |(646)665-7540  |WWW.ELFNYC1.COM           |636 WEST   28 STREET NEW YORK NY 10001      |04/22/2020     |\n",
      "|T624038C |5438429             |HUEZO, SALVADOR         |OWNER MUST DRIVE|YES   |NULL               |3N8CM0JT3GK701911|NULL                |2019       |NULL       |(646)665-7304  |DRIVEUBERNYC.COM          |636 WEST   28 STREET NEW YORK NY 10001      |04/22/2020     |\n",
      "|ELITE903 |5388274             |JEAN-PIERRE,SERGE       |OWNER MUST DRIVE|YES   |NULL               |5TDZK3DCXGS706794|NULL                |2014       |NULL       |(718)472-2300  |NULL                      |32-72 GALE AVENUE LIC NY 11101              |04/22/2020     |\n",
      "|T487069C |5250818             |JETS CAB CORP.          |NAMED DRIVER    |YES   |NULL               |JTMRJREV8HD120663|NULL                |2016       |NULL       |(646)665-7402  |NULL                      |636 WEST   28 STREET NEW YORK NY 10001      |04/22/2020     |\n",
      "+---------+--------------------+------------------------+----------------+------+-------------------+-----------------+--------------------+-----------+-----------+---------------+--------------------------+--------------------------------------------+---------------+\n",
      "only showing top 20 rows\n",
      "\n"
     ]
    }
   ],
   "source": [
    "cabsDF = (\n",
    "    spark.read.option(\"header\", \"true\")\n",
    "    .option(\"inferSchema\", \"true\")\n",
    "    .csv(\"/home/jovyan/spark-workspace/data/csvs/Cabs.csv\")\n",
    ")\n",
    "\n",
    "cabsDF.show(truncate=False)"
   ]
  },
  {
   "cell_type": "code",
   "execution_count": 5,
   "id": "94f50826-e6b8-4024-abc7-52549bdfc3f7",
   "metadata": {},
   "outputs": [],
   "source": [
    "# Get the columns from 0 to 3 (Python indexing: exclusive of 3)\n",
    "# selected_columns = cabsDF.columns[0:4]\n",
    "# print(\"Selected Columns:\", selected_columns)\n",
    "\n",
    "# # Select these columns from the DataFrame\n",
    "# sliced_df = cabsDF.select(*selected_columns)\n",
    "# sliced_df.show()"
   ]
  },
  {
   "cell_type": "code",
   "execution_count": 6,
   "id": "3538bfb9-7ec0-469a-9409-f1e494505388",
   "metadata": {},
   "outputs": [],
   "source": [
    "# Create a temp view\n",
    "cabsDF.createOrReplaceTempView(\"Cabs\")"
   ]
  },
  {
   "cell_type": "markdown",
   "id": "74b0f746-3326-45a3-a28b-75c4e38e82e8",
   "metadata": {},
   "source": [
    "### Create a function to convert case:"
   ]
  },
  {
   "cell_type": "code",
   "execution_count": 23,
   "id": "98c1bf8e-f593-4d50-9ba1-647769923bdc",
   "metadata": {},
   "outputs": [],
   "source": [
    "def convertCase(str):\n",
    "    if not str:  # Handle empty or None values\n",
    "        return \"\"\n",
    "    result = \"\"\n",
    "    nameWordArray = str.split(\",\")\n",
    "    for word in nameWordArray:\n",
    "        word = word.strip()\n",
    "        result += word[0:1].upper() + word[1:].lower() + \", \"\n",
    "    return result[:-2]  # Remove the trailing \", \""
   ]
  },
  {
   "cell_type": "markdown",
   "id": "6f2f855c-2e9a-483c-81a1-2ecebbf7a08f",
   "metadata": {},
   "source": [
    "### Register function as a User Defined Function (UDF)\n",
    "\n",
    "This registration option is for using UDF in Python/Scala"
   ]
  },
  {
   "cell_type": "code",
   "execution_count": 24,
   "id": "c9e8a0be-0427-45d9-a9af-74185a44fd4d",
   "metadata": {},
   "outputs": [
    {
     "data": {
      "text/plain": [
       "<function __main__.convertCase(str)>"
      ]
     },
     "execution_count": 24,
     "metadata": {},
     "output_type": "execute_result"
    }
   ],
   "source": [
    "# convertCaseUdf = udf(lambda str: convertCase(str), StringType())\n",
    "\n",
    "spark.udf.register(\"convertCaseUdf\", convertCase, StringType())"
   ]
  },
  {
   "cell_type": "markdown",
   "id": "29c1263c-9abe-4824-9a0f-37ae6da4fbaa",
   "metadata": {},
   "source": [
    "#### Use UDF in DataFrame code"
   ]
  },
  {
   "cell_type": "code",
   "execution_count": 25,
   "id": "a7fbeec3-4848-41d6-b022-050a47a215d5",
   "metadata": {},
   "outputs": [
    {
     "name": "stdout",
     "output_type": "stream",
     "text": [
      "+------------------------+------------------------+\n",
      "|Name                    |Name_ConvertedCase      |\n",
      "+------------------------+------------------------+\n",
      "|ABCON INC.              |Abcon inc.              |\n",
      "|ACCEPTABLE TAXI LLC     |Acceptable taxi llc     |\n",
      "|ALLIS CAB CORP          |Allis cab corp          |\n",
      "|BENE CAB CORP           |Bene cab corp           |\n",
      "|BOULOS TAXI CORP.       |Boulos taxi corp.       |\n",
      "|CACERES,JAIME,P         |Caceres, Jaime, P       |\n",
      "|CALCIUM ONE SERVICE INC.|Calcium one service inc.|\n",
      "|CHARLES,WILBERT         |Charles, Wilbert        |\n",
      "|CHAWKI,MICHAEL          |Chawki, Michael         |\n",
      "|CHRYSOVALANTOU CORP,    |Chrysovalantou corp,    |\n",
      "|COFI BOAT CORP.         |Cofi boat corp.         |\n",
      "|DEKEL TAXI CAB CORP     |Dekel taxi cab corp     |\n",
      "|FLORIAN & ROBERT INC    |Florian & robert inc    |\n",
      "|GART CAB CORP           |Gart cab corp           |\n",
      "|GAUTHIER,JACQUES        |Gauthier, Jacques       |\n",
      "|GEORGAKOPOULOS, GEORGIA |Georgakopoulos,  georgia|\n",
      "|GUJAR CAB CORP          |Gujar cab corp          |\n",
      "|HUEZO, SALVADOR         |Huezo,  salvador        |\n",
      "|JEAN-PIERRE,SERGE       |Jean-pierre, Serge      |\n",
      "|JETS CAB CORP.          |Jets cab corp.          |\n",
      "+------------------------+------------------------+\n",
      "only showing top 20 rows\n",
      "\n"
     ]
    }
   ],
   "source": [
    "from pyspark.sql.functions import col\n",
    "\n",
    "# Apply the UDF\n",
    "cabsDF.select(\"Name\", convertCaseUdf(col(\"Name\")).alias(\"Name_ConvertedCase\")).show(\n",
    "    truncate=False\n",
    ")"
   ]
  },
  {
   "cell_type": "code",
   "execution_count": 26,
   "id": "7d7cc4e1-62ec-4fc0-b884-04682a0a192a",
   "metadata": {},
   "outputs": [
    {
     "name": "stdout",
     "output_type": "stream",
     "text": [
      "+------------------------+------------------------+\n",
      "|Name                    |Name_ConvertedCase      |\n",
      "+------------------------+------------------------+\n",
      "|ABCON INC.              |Abcon inc.              |\n",
      "|ACCEPTABLE TAXI LLC     |Acceptable taxi llc     |\n",
      "|ALLIS CAB CORP          |Allis cab corp          |\n",
      "|BENE CAB CORP           |Bene cab corp           |\n",
      "|BOULOS TAXI CORP.       |Boulos taxi corp.       |\n",
      "|CACERES,JAIME,P         |Caceres, Jaime, P       |\n",
      "|CALCIUM ONE SERVICE INC.|Calcium one service inc.|\n",
      "|CHARLES,WILBERT         |Charles, Wilbert        |\n",
      "|CHAWKI,MICHAEL          |Chawki, Michael         |\n",
      "|CHRYSOVALANTOU CORP,    |Chrysovalantou corp,    |\n",
      "|COFI BOAT CORP.         |Cofi boat corp.         |\n",
      "|DEKEL TAXI CAB CORP     |Dekel taxi cab corp     |\n",
      "|FLORIAN & ROBERT INC    |Florian & robert inc    |\n",
      "|GART CAB CORP           |Gart cab corp           |\n",
      "|GAUTHIER,JACQUES        |Gauthier, Jacques       |\n",
      "|GEORGAKOPOULOS, GEORGIA |Georgakopoulos, Georgia |\n",
      "|GUJAR CAB CORP          |Gujar cab corp          |\n",
      "|HUEZO, SALVADOR         |Huezo, Salvador         |\n",
      "|JEAN-PIERRE,SERGE       |Jean-pierre, Serge      |\n",
      "|JETS CAB CORP.          |Jets cab corp.          |\n",
      "+------------------------+------------------------+\n",
      "only showing top 20 rows\n",
      "\n"
     ]
    }
   ],
   "source": [
    "# Use the registered UDF in the SQL query\n",
    "spark.sql(\n",
    "    \"\"\"\n",
    "    SELECT \n",
    "        Name,\n",
    "        convertCaseUdf(Name) AS Name_ConvertedCase\n",
    "    FROM Cabs\n",
    "\"\"\"\n",
    ").show(truncate=False)"
   ]
  },
  {
   "cell_type": "code",
   "execution_count": 27,
   "id": "7f88d455-9d41-4cee-b172-179f8069dcd2",
   "metadata": {},
   "outputs": [
    {
     "name": "stdout",
     "output_type": "stream",
     "text": [
      "+---------+------------------+\n",
      "|Name     |Name_ConvertedCase|\n",
      "+---------+------------------+\n",
      "|john,doe |nhoj, eod         |\n",
      "|alice,bob|ecila, bob        |\n",
      "|NULL     |                  |\n",
      "+---------+------------------+\n",
      "\n"
     ]
    }
   ],
   "source": [
    "# Example DataFrame\n",
    "data = [(\"john,doe\",), (\"alice,bob\",), (None,)]\n",
    "columns = [\"Name\"]\n",
    "data_DF = spark.createDataFrame(data, columns)\n",
    "\n",
    "\n",
    "# Define the Python function\n",
    "def convert_case(name: str) -> str:\n",
    "    if not name:\n",
    "        return \"\"\n",
    "    result = \"\"\n",
    "    reversed_word = name.split(\",\")\n",
    "    for word in reversed_word:\n",
    "        result += word[::-1] + \", \"\n",
    "    return result[:-2]\n",
    "\n",
    "\n",
    "# Register UDF\n",
    "convert_case_udf = udf(convert_case, StringType())\n",
    "\n",
    "# Apply UDF to DataFrame\n",
    "data_DF.select(\"Name\", convert_case_udf(col(\"Name\")).alias(\"Name_ConvertedCase\")).show(\n",
    "    truncate=False\n",
    ")"
   ]
  },
  {
   "cell_type": "code",
   "execution_count": null,
   "id": "e0c91af4-707b-4707-9bd4-e919cece641e",
   "metadata": {},
   "outputs": [],
   "source": []
  }
 ],
 "metadata": {
  "kernelspec": {
   "display_name": "Python 3 (ipykernel)",
   "language": "python",
   "name": "python3"
  },
  "language_info": {
   "codemirror_mode": {
    "name": "ipython",
    "version": 3
   },
   "file_extension": ".py",
   "mimetype": "text/x-python",
   "name": "python",
   "nbconvert_exporter": "python",
   "pygments_lexer": "ipython3",
   "version": "3.11.6"
  }
 },
 "nbformat": 4,
 "nbformat_minor": 5
}
